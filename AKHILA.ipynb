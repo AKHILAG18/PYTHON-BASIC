{
 "cells": [
  {
   "cell_type": "code",
   "execution_count": 1,
   "id": "7263be1b",
   "metadata": {},
   "outputs": [],
   "source": [
    "strings=\"akhila\",\"car\",\"holiday\",\"bike\",\"college\""
   ]
  },
  {
   "cell_type": "code",
   "execution_count": 2,
   "id": "06ab74e7",
   "metadata": {},
   "outputs": [
    {
     "data": {
      "text/plain": [
       "('akhila', 'car', 'holiday', 'bike', 'college')"
      ]
     },
     "execution_count": 2,
     "metadata": {},
     "output_type": "execute_result"
    }
   ],
   "source": [
    "strings"
   ]
  },
  {
   "cell_type": "code",
   "execution_count": 3,
   "id": "3c924f46",
   "metadata": {},
   "outputs": [
    {
     "name": "stdout",
     "output_type": "stream",
     "text": [
      "('akhila', 'car', 'holiday', 'bike', 'college')\n"
     ]
    }
   ],
   "source": [
    "print(strings)"
   ]
  },
  {
   "cell_type": "code",
   "execution_count": 4,
   "id": "56b74357",
   "metadata": {},
   "outputs": [
    {
     "name": "stdout",
     "output_type": "stream",
     "text": [
      "akhila\n"
     ]
    }
   ],
   "source": [
    "print(\"akhila\")"
   ]
  },
  {
   "cell_type": "code",
   "execution_count": 5,
   "id": "1ed1febb",
   "metadata": {},
   "outputs": [
    {
     "name": "stdout",
     "output_type": "stream",
     "text": [
      "anupama\n"
     ]
    }
   ],
   "source": [
    "print(\"anupama\")"
   ]
  },
  {
   "cell_type": "code",
   "execution_count": 6,
   "id": "986ebcf7",
   "metadata": {},
   "outputs": [
    {
     "name": "stdout",
     "output_type": "stream",
     "text": [
      "ram\n"
     ]
    }
   ],
   "source": [
    "print(\"ram\")"
   ]
  },
  {
   "cell_type": "code",
   "execution_count": 7,
   "id": "1301f8fd",
   "metadata": {},
   "outputs": [
    {
     "name": "stdout",
     "output_type": "stream",
     "text": [
      "oppo\n"
     ]
    }
   ],
   "source": [
    "print(\"oppo\")"
   ]
  },
  {
   "cell_type": "code",
   "execution_count": 8,
   "id": "36325501",
   "metadata": {},
   "outputs": [
    {
     "name": "stdout",
     "output_type": "stream",
     "text": [
      "audi\n"
     ]
    }
   ],
   "source": [
    "print(\"audi\")"
   ]
  },
  {
   "cell_type": "code",
   "execution_count": 9,
   "id": "59877c32",
   "metadata": {},
   "outputs": [
    {
     "name": "stdout",
     "output_type": "stream",
     "text": [
      "duke\n"
     ]
    }
   ],
   "source": [
    "print(\"duke\")"
   ]
  },
  {
   "cell_type": "code",
   "execution_count": 10,
   "id": "2f5d22e5",
   "metadata": {},
   "outputs": [
    {
     "ename": "NameError",
     "evalue": "name 'indexing' is not defined",
     "output_type": "error",
     "traceback": [
      "\u001b[1;31m---------------------------------------------------------------------------\u001b[0m",
      "\u001b[1;31mNameError\u001b[0m                                 Traceback (most recent call last)",
      "Cell \u001b[1;32mIn[10], line 1\u001b[0m\n\u001b[1;32m----> 1\u001b[0m \u001b[43mindexing\u001b[49m\n",
      "\u001b[1;31mNameError\u001b[0m: name 'indexing' is not defined"
     ]
    }
   ],
   "source": [
    "indexing"
   ]
  },
  {
   "cell_type": "code",
   "execution_count": 11,
   "id": "aa01c2f3",
   "metadata": {},
   "outputs": [],
   "source": [
    "#indexing"
   ]
  },
  {
   "cell_type": "code",
   "execution_count": 14,
   "id": "d19d5027",
   "metadata": {},
   "outputs": [],
   "source": [
    "s=(0,1,2,3,4,5,6,7)"
   ]
  },
  {
   "cell_type": "code",
   "execution_count": 13,
   "id": "1d3ff72f",
   "metadata": {},
   "outputs": [
    {
     "data": {
      "text/plain": [
       "(1, 2, 3, 4, 5, 6, 7)"
      ]
     },
     "execution_count": 13,
     "metadata": {},
     "output_type": "execute_result"
    }
   ],
   "source": [
    "s"
   ]
  },
  {
   "cell_type": "code",
   "execution_count": 15,
   "id": "7f321214",
   "metadata": {},
   "outputs": [
    {
     "data": {
      "text/plain": [
       "(0, 1, 2, 3, 4, 5, 6, 7)"
      ]
     },
     "execution_count": 15,
     "metadata": {},
     "output_type": "execute_result"
    }
   ],
   "source": [
    "s"
   ]
  },
  {
   "cell_type": "code",
   "execution_count": 16,
   "id": "4c9b1489",
   "metadata": {},
   "outputs": [
    {
     "data": {
      "text/plain": [
       "1"
      ]
     },
     "execution_count": 16,
     "metadata": {},
     "output_type": "execute_result"
    }
   ],
   "source": [
    "s[1]"
   ]
  },
  {
   "cell_type": "code",
   "execution_count": 17,
   "id": "6220397b",
   "metadata": {},
   "outputs": [
    {
     "data": {
      "text/plain": [
       "3"
      ]
     },
     "execution_count": 17,
     "metadata": {},
     "output_type": "execute_result"
    }
   ],
   "source": [
    "s[3]"
   ]
  },
  {
   "cell_type": "code",
   "execution_count": 18,
   "id": "06b3c7d8",
   "metadata": {},
   "outputs": [
    {
     "ename": "NameError",
     "evalue": "name 's1' is not defined",
     "output_type": "error",
     "traceback": [
      "\u001b[1;31m---------------------------------------------------------------------------\u001b[0m",
      "\u001b[1;31mNameError\u001b[0m                                 Traceback (most recent call last)",
      "Cell \u001b[1;32mIn[18], line 1\u001b[0m\n\u001b[1;32m----> 1\u001b[0m \u001b[43ms1\u001b[49m[\u001b[38;5;241m0\u001b[39m]\n",
      "\u001b[1;31mNameError\u001b[0m: name 's1' is not defined"
     ]
    }
   ],
   "source": [
    "s1[0]"
   ]
  },
  {
   "cell_type": "code",
   "execution_count": 19,
   "id": "f516da62",
   "metadata": {},
   "outputs": [],
   "source": [
    "s=[\"akhila\",\"car\",\"bike\",\"book\",]"
   ]
  },
  {
   "cell_type": "code",
   "execution_count": 20,
   "id": "04fae244",
   "metadata": {},
   "outputs": [
    {
     "data": {
      "text/plain": [
       "'bike'"
      ]
     },
     "execution_count": 20,
     "metadata": {},
     "output_type": "execute_result"
    }
   ],
   "source": [
    "s[2]"
   ]
  },
  {
   "cell_type": "code",
   "execution_count": 21,
   "id": "3cb87aac",
   "metadata": {},
   "outputs": [
    {
     "data": {
      "text/plain": [
       "'book'"
      ]
     },
     "execution_count": 21,
     "metadata": {},
     "output_type": "execute_result"
    }
   ],
   "source": [
    "s[3]"
   ]
  },
  {
   "cell_type": "code",
   "execution_count": 22,
   "id": "9bc166b3",
   "metadata": {},
   "outputs": [
    {
     "data": {
      "text/plain": [
       "'car'"
      ]
     },
     "execution_count": 22,
     "metadata": {},
     "output_type": "execute_result"
    }
   ],
   "source": [
    "s[1]"
   ]
  },
  {
   "cell_type": "code",
   "execution_count": 23,
   "id": "d5cb7bad",
   "metadata": {},
   "outputs": [
    {
     "data": {
      "text/plain": [
       "'akhila'"
      ]
     },
     "execution_count": 23,
     "metadata": {},
     "output_type": "execute_result"
    }
   ],
   "source": [
    "s[0]"
   ]
  },
  {
   "cell_type": "code",
   "execution_count": 25,
   "id": "abc1bb17",
   "metadata": {},
   "outputs": [],
   "source": [
    "s1=[\"archana\",\"anupama\",\"saikeerthi\",\"anu\"]"
   ]
  },
  {
   "cell_type": "markdown",
   "id": "4371f8f6",
   "metadata": {},
   "source": [
    "s1[2]"
   ]
  },
  {
   "cell_type": "code",
   "execution_count": 26,
   "id": "045d9789",
   "metadata": {},
   "outputs": [],
   "source": [
    "s2=[\"car\",\"bike\",\"bus\",\"train\"]"
   ]
  },
  {
   "cell_type": "code",
   "execution_count": 27,
   "id": "2334c652",
   "metadata": {},
   "outputs": [
    {
     "data": {
      "text/plain": [
       "'bus'"
      ]
     },
     "execution_count": 27,
     "metadata": {},
     "output_type": "execute_result"
    }
   ],
   "source": [
    "s2[2]"
   ]
  },
  {
   "cell_type": "code",
   "execution_count": 28,
   "id": "0ac71ee2",
   "metadata": {},
   "outputs": [
    {
     "data": {
      "text/plain": [
       "'train'"
      ]
     },
     "execution_count": 28,
     "metadata": {},
     "output_type": "execute_result"
    }
   ],
   "source": [
    "s2[3]"
   ]
  },
  {
   "cell_type": "code",
   "execution_count": 29,
   "id": "a025e386",
   "metadata": {},
   "outputs": [],
   "source": [
    "akhila=(\"iam akhila from hyderabad and i stay in kishanbagh\")"
   ]
  },
  {
   "cell_type": "code",
   "execution_count": 30,
   "id": "366e7fc1",
   "metadata": {},
   "outputs": [
    {
     "name": "stdout",
     "output_type": "stream",
     "text": [
      "iam akhila from hyderabad and i stay in kishanbagh\n"
     ]
    }
   ],
   "source": [
    "print(akhila)"
   ]
  },
  {
   "cell_type": "code",
   "execution_count": 31,
   "id": "48161773",
   "metadata": {},
   "outputs": [
    {
     "data": {
      "text/plain": [
       "'i'"
      ]
     },
     "execution_count": 31,
     "metadata": {},
     "output_type": "execute_result"
    }
   ],
   "source": [
    "akhila[0]"
   ]
  },
  {
   "cell_type": "code",
   "execution_count": 32,
   "id": "e31a33ac",
   "metadata": {},
   "outputs": [
    {
     "data": {
      "text/plain": [
       "' '"
      ]
     },
     "execution_count": 32,
     "metadata": {},
     "output_type": "execute_result"
    }
   ],
   "source": [
    "akhila[3]"
   ]
  },
  {
   "cell_type": "code",
   "execution_count": 33,
   "id": "b265858e",
   "metadata": {},
   "outputs": [
    {
     "data": {
      "text/plain": [
       "'k'"
      ]
     },
     "execution_count": 33,
     "metadata": {},
     "output_type": "execute_result"
    }
   ],
   "source": [
    "akhila[5]"
   ]
  },
  {
   "cell_type": "code",
   "execution_count": 34,
   "id": "5201ce80",
   "metadata": {},
   "outputs": [
    {
     "data": {
      "text/plain": [
       "' '"
      ]
     },
     "execution_count": 34,
     "metadata": {},
     "output_type": "execute_result"
    }
   ],
   "source": [
    "akhila[10]"
   ]
  },
  {
   "cell_type": "code",
   "execution_count": 35,
   "id": "152af42f",
   "metadata": {},
   "outputs": [
    {
     "data": {
      "text/plain": [
       "'r'"
      ]
     },
     "execution_count": 35,
     "metadata": {},
     "output_type": "execute_result"
    }
   ],
   "source": [
    "akhila[12]"
   ]
  },
  {
   "cell_type": "code",
   "execution_count": 36,
   "id": "b8341711",
   "metadata": {},
   "outputs": [
    {
     "data": {
      "text/plain": [
       "'h'"
      ]
     },
     "execution_count": 36,
     "metadata": {},
     "output_type": "execute_result"
    }
   ],
   "source": [
    "akhila[-1]"
   ]
  },
  {
   "cell_type": "code",
   "execution_count": 37,
   "id": "2e0fe96a",
   "metadata": {},
   "outputs": [
    {
     "data": {
      "text/plain": [
       "'b'"
      ]
     },
     "execution_count": 37,
     "metadata": {},
     "output_type": "execute_result"
    }
   ],
   "source": [
    "akhila[-4]"
   ]
  },
  {
   "cell_type": "code",
   "execution_count": 38,
   "id": "dd1b218c",
   "metadata": {},
   "outputs": [
    {
     "data": {
      "text/plain": [
       "' '"
      ]
     },
     "execution_count": 38,
     "metadata": {},
     "output_type": "execute_result"
    }
   ],
   "source": [
    "akhila[10]"
   ]
  },
  {
   "cell_type": "code",
   "execution_count": 39,
   "id": "9dd1e431",
   "metadata": {},
   "outputs": [
    {
     "data": {
      "text/plain": [
       "'k'"
      ]
     },
     "execution_count": 39,
     "metadata": {},
     "output_type": "execute_result"
    }
   ],
   "source": [
    "akhila[-10]"
   ]
  },
  {
   "cell_type": "code",
   "execution_count": 40,
   "id": "710f40c2",
   "metadata": {},
   "outputs": [
    {
     "data": {
      "text/plain": [
       "'a'"
      ]
     },
     "execution_count": 40,
     "metadata": {},
     "output_type": "execute_result"
    }
   ],
   "source": [
    "akhila[-16]"
   ]
  },
  {
   "cell_type": "code",
   "execution_count": 41,
   "id": "a2f5bd46",
   "metadata": {},
   "outputs": [
    {
     "data": {
      "text/plain": [
       "'iam akhila'"
      ]
     },
     "execution_count": 41,
     "metadata": {},
     "output_type": "execute_result"
    }
   ],
   "source": [
    "akhila[0:10:1]"
   ]
  },
  {
   "cell_type": "code",
   "execution_count": 42,
   "id": "083f3076",
   "metadata": {},
   "outputs": [],
   "source": [
    "akhila=\"i write code\""
   ]
  },
  {
   "cell_type": "code",
   "execution_count": 43,
   "id": "58cba0ca",
   "metadata": {},
   "outputs": [
    {
     "data": {
      "text/plain": [
       "'i write co'"
      ]
     },
     "execution_count": 43,
     "metadata": {},
     "output_type": "execute_result"
    }
   ],
   "source": [
    "akhila[0:10:1]"
   ]
  },
  {
   "cell_type": "code",
   "execution_count": 44,
   "id": "77eb08ce",
   "metadata": {},
   "outputs": [
    {
     "data": {
      "text/plain": [
       "'iwiec'"
      ]
     },
     "execution_count": 44,
     "metadata": {},
     "output_type": "execute_result"
    }
   ],
   "source": [
    "akhila[0:10:2]"
   ]
  },
  {
   "cell_type": "code",
   "execution_count": null,
   "id": "f5ec2bb7",
   "metadata": {},
   "outputs": [],
   "source": []
  }
 ],
 "metadata": {
  "kernelspec": {
   "display_name": "Python 3 (ipykernel)",
   "language": "python",
   "name": "python3"
  },
  "language_info": {
   "codemirror_mode": {
    "name": "ipython",
    "version": 3
   },
   "file_extension": ".py",
   "mimetype": "text/x-python",
   "name": "python",
   "nbconvert_exporter": "python",
   "pygments_lexer": "ipython3",
   "version": "3.10.9"
  }
 },
 "nbformat": 4,
 "nbformat_minor": 5
}
