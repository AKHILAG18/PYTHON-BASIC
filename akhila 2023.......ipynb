{
 "cells": [
  {
   "cell_type": "code",
   "execution_count": 1,
   "id": "62f6105b",
   "metadata": {},
   "outputs": [],
   "source": [
    "#conditions"
   ]
  },
  {
   "cell_type": "code",
   "execution_count": 2,
   "id": "3147d608",
   "metadata": {},
   "outputs": [
    {
     "ename": "SyntaxError",
     "evalue": "invalid syntax (2798963104.py, line 1)",
     "output_type": "error",
     "traceback": [
      "\u001b[1;36m  Cell \u001b[1;32mIn[2], line 1\u001b[1;36m\u001b[0m\n\u001b[1;33m    conditions has three modules\u001b[0m\n\u001b[1;37m               ^\u001b[0m\n\u001b[1;31mSyntaxError\u001b[0m\u001b[1;31m:\u001b[0m invalid syntax\n"
     ]
    }
   ],
   "source": [
    "conditions has three modules\n",
    "if\n",
    "elif\n",
    "else"
   ]
  },
  {
   "cell_type": "code",
   "execution_count": 3,
   "id": "efbe7f90",
   "metadata": {},
   "outputs": [
    {
     "ename": "SyntaxError",
     "evalue": "invalid syntax (3079482844.py, line 10)",
     "output_type": "error",
     "traceback": [
      "\u001b[1;36m  Cell \u001b[1;32mIn[3], line 10\u001b[1;36m\u001b[0m\n\u001b[1;33m    end the statement\u001b[0m\n\u001b[1;37m        ^\u001b[0m\n\u001b[1;31mSyntaxError\u001b[0m\u001b[1;31m:\u001b[0m invalid syntax\n"
     ]
    }
   ],
   "source": [
    "if conditions:\n",
    "    statement\n",
    "elif condition1:\n",
    "    statement1 \n",
    "elif condition2:\n",
    "    statement2\n",
    "elif condition3:\n",
    "    statement3   \n",
    "else:\n",
    "    end the statement   "
   ]
  },
  {
   "cell_type": "code",
   "execution_count": 4,
   "id": "85571789",
   "metadata": {},
   "outputs": [
    {
     "name": "stdout",
     "output_type": "stream",
     "text": [
      "20\n"
     ]
    }
   ],
   "source": [
    "a=10\n",
    "b=20\n",
    "c=a+b\n",
    "if a>b:\n",
    "    print(c)\n",
    "elif a<b:\n",
    "    print(b)\n",
    "elif a!=b:\n",
    "    print(c)\n",
    "else:\n",
    "    print(\"enter the value:\")"
   ]
  },
  {
   "cell_type": "code",
   "execution_count": 6,
   "id": "5b90090c",
   "metadata": {},
   "outputs": [
    {
     "ename": "SyntaxError",
     "evalue": "invalid syntax. Maybe you meant '==' or ':=' instead of '='? (1920343952.py, line 1)",
     "output_type": "error",
     "traceback": [
      "\u001b[1;36m  Cell \u001b[1;32mIn[6], line 1\u001b[1;36m\u001b[0m\n\u001b[1;33m    if a=10\u001b[0m\n\u001b[1;37m       ^\u001b[0m\n\u001b[1;31mSyntaxError\u001b[0m\u001b[1;31m:\u001b[0m invalid syntax. Maybe you meant '==' or ':=' instead of '='?\n"
     ]
    }
   ],
   "source": [
    "if a=10\n",
    "if a==10:\n",
    "    print(a)"
   ]
  },
  {
   "cell_type": "code",
   "execution_count": 7,
   "id": "4a7e36f6",
   "metadata": {},
   "outputs": [
    {
     "name": "stdout",
     "output_type": "stream",
     "text": [
      "b is grt than a\n"
     ]
    }
   ],
   "source": [
    "a=10\n",
    "b=20\n",
    "if a>b:\n",
    "    print(\"a is grt than b\")\n",
    "elif b>a:\n",
    "     print(\"b is grt than a\")\n",
    "    "
   ]
  },
  {
   "cell_type": "code",
   "execution_count": 8,
   "id": "0ac47bd7",
   "metadata": {},
   "outputs": [
    {
     "name": "stdout",
     "output_type": "stream",
     "text": [
      "1010\n"
     ]
    }
   ],
   "source": [
    "number=10\n",
    "a=f\"{number:b}\"\n",
    "print(a)"
   ]
  },
  {
   "cell_type": "code",
   "execution_count": 9,
   "id": "bb78d6b4",
   "metadata": {},
   "outputs": [
    {
     "name": "stdout",
     "output_type": "stream",
     "text": [
      "0000011110\n"
     ]
    }
   ],
   "source": [
    "number2=30\n",
    "c=f'{number2:010b}'\n",
    "print(c)\n"
   ]
  },
  {
   "cell_type": "markdown",
   "id": "11f19aa5",
   "metadata": {},
   "source": [
    "# and or operations"
   ]
  },
  {
   "cell_type": "code",
   "execution_count": 10,
   "id": "4dbc1b45",
   "metadata": {},
   "outputs": [
    {
     "name": "stdout",
     "output_type": "stream",
     "text": [
      "10\n"
     ]
    }
   ],
   "source": [
    "a=10\n",
    "b=20\n",
    "if a==10 or a ==20:\n",
    "    print(a)"
   ]
  },
  {
   "cell_type": "code",
   "execution_count": 11,
   "id": "0eeb7a4f",
   "metadata": {},
   "outputs": [],
   "source": [
    "if a==10 and a ==20:\n",
    "    print(a)"
   ]
  },
  {
   "cell_type": "code",
   "execution_count": null,
   "id": "2ed651f2",
   "metadata": {},
   "outputs": [],
   "source": []
  }
 ],
 "metadata": {
  "kernelspec": {
   "display_name": "Python 3 (ipykernel)",
   "language": "python",
   "name": "python3"
  },
  "language_info": {
   "codemirror_mode": {
    "name": "ipython",
    "version": 3
   },
   "file_extension": ".py",
   "mimetype": "text/x-python",
   "name": "python",
   "nbconvert_exporter": "python",
   "pygments_lexer": "ipython3",
   "version": "3.10.9"
  }
 },
 "nbformat": 4,
 "nbformat_minor": 5
}
